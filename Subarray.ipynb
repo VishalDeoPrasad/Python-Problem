{
 "cells": [
  {
   "cell_type": "code",
   "execution_count": 1,
   "metadata": {},
   "outputs": [
    {
     "name": "stdout",
     "output_type": "stream",
     "text": [
      "[1] [1, 2] [1, 2, 3] \n",
      "[2] [2, 3] \n",
      "[3] \n",
      "\n"
     ]
    }
   ],
   "source": [
    "arr = [1,2,3,4]\n",
    "n = len(arr)\n",
    "for i in range(n):\n",
    "    for j in range(i+1, n):\n",
    "        print(arr[i:j], end = \" \")\n",
    "    print()"
   ]
  },
  {
   "cell_type": "code",
   "execution_count": 10,
   "metadata": {},
   "outputs": [
    {
     "name": "stdout",
     "output_type": "stream",
     "text": [
      "[0, 1] [1, 2] [2, 3] [3, 4] "
     ]
    }
   ],
   "source": [
    "#print subarray of n element\n",
    "arr = [0,1,2,3,4]\n",
    "n = len(arr)\n",
    "k = 2\n",
    "for i in range(n):\n",
    "    if len(arr[i:i+k]) == k:\n",
    "        print(arr[i:i+k], end= \" \")"
   ]
  },
  {
   "cell_type": "code",
   "execution_count": 14,
   "metadata": {},
   "outputs": [
    {
     "name": "stdout",
     "output_type": "stream",
     "text": [
      "[1, 2, 3] [2, 3, 4] "
     ]
    }
   ],
   "source": [
    "#My Simple Method for finding sub array of size n\n",
    "arr = [1,2,3,4]\n",
    "n = len(arr)\n",
    "k = 3\n",
    "for i in range(n-k+1):\n",
    "    print(arr[i:i+k], end= \" \")"
   ]
  },
  {
   "cell_type": "code",
   "execution_count": null,
   "metadata": {},
   "outputs": [],
   "source": []
  }
 ],
 "metadata": {
  "kernelspec": {
   "display_name": "Python 3",
   "language": "python",
   "name": "python3"
  },
  "language_info": {
   "codemirror_mode": {
    "name": "ipython",
    "version": 3
   },
   "file_extension": ".py",
   "mimetype": "text/x-python",
   "name": "python",
   "nbconvert_exporter": "python",
   "pygments_lexer": "ipython3",
   "version": "3.10.9"
  },
  "orig_nbformat": 4,
  "vscode": {
   "interpreter": {
    "hash": "f8048d823ac758c079b9f29ef30bbbc9b1138746b4add2d8fb5759ec4a242e2c"
   }
  }
 },
 "nbformat": 4,
 "nbformat_minor": 2
}
